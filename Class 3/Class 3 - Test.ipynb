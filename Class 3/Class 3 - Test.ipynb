{
 "cells": [
  {
   "cell_type": "markdown",
   "metadata": {},
   "source": [
    "# Q1. Write the python code for adding 2 numbers."
   ]
  },
  {
   "cell_type": "code",
   "execution_count": 2,
   "metadata": {},
   "outputs": [
    {
     "name": "stdout",
     "output_type": "stream",
     "text": [
      "5\n"
     ]
    }
   ],
   "source": [
    "a=2\n",
    "b=3\n",
    "# c= a+b\n",
    "print(2+3)"
   ]
  },
  {
   "cell_type": "markdown",
   "metadata": {},
   "source": [
    "# Q2. Take 2 strings and combine and print them."
   ]
  },
  {
   "cell_type": "code",
   "execution_count": 10,
   "metadata": {},
   "outputs": [
    {
     "name": "stdout",
     "output_type": "stream",
     "text": [
      "I love banana\n"
     ]
    }
   ],
   "source": [
    "a = \"I love\"\n",
    "b=\"banana\"\n",
    "\n",
    "print(a+\" \"+b)"
   ]
  },
  {
   "cell_type": "markdown",
   "metadata": {},
   "source": [
    "# Q3. Take 2 numbers and multiply them. Print even if the product is even and odd otherwise."
   ]
  },
  {
   "cell_type": "code",
   "execution_count": null,
   "metadata": {},
   "outputs": [],
   "source": [
    "a= 2\n",
    "b= 3\n",
    "product = a*b\n",
    "\n",
    "if(product%2==0):\n",
    "    print(\"even\")\n",
    "else:\n",
    "    print(\"odd\")"
   ]
  },
  {
   "cell_type": "markdown",
   "metadata": {},
   "source": [
    "# Q4. Take a string with the name of a day. Print the number corresponding to that day in the week. For e.g. print 1 if string contains Monday."
   ]
  },
  {
   "cell_type": "code",
   "execution_count": 3,
   "metadata": {},
   "outputs": [
    {
     "name": "stdout",
     "output_type": "stream",
     "text": [
      "1\n"
     ]
    }
   ],
   "source": [
    "day= \"Monday\"\n",
    "\n",
    "if(day==\"Monday\"):\n",
    "    print(1)\n",
    "elif(day==\"Tuesday\"):\n",
    "    print(2)\n",
    "elif(day==\"Wednesday\"):\n",
    "    print(3)\n",
    "elif(day==\"Thursday\"):\n",
    "    print(4)\n",
    "elif(day==\"Friday\"):\n",
    "    print(5)\n",
    "elif(day==\"Saturday\"):\n",
    "    print(6)\n",
    "else:\n",
    "    print(7)"
   ]
  },
  {
   "cell_type": "markdown",
   "metadata": {},
   "source": [
    "# Q5. Write a code to input an integer. Print -1 if integer is negative, 1 if it is positive and 0 if it is equal to zero."
   ]
  },
  {
   "cell_type": "code",
   "execution_count": 4,
   "metadata": {},
   "outputs": [
    {
     "name": "stdout",
     "output_type": "stream",
     "text": [
      "-1\n"
     ]
    }
   ],
   "source": [
    "MyVariable= -25\n",
    "\n",
    "if(MyVariable<0):\n",
    "    print(-1)\n",
    "elif(MyVariable>0):\n",
    "    print(1)\n",
    "else:\n",
    "    print(0)"
   ]
  },
  {
   "cell_type": "markdown",
   "metadata": {},
   "source": [
    "# Q6. Take a random integer. Print fizz if the number is divisible by 3, print buzz if the number is divisible by 5 and print fizzbuzz if it is divisible by both 3 and 5."
   ]
  },
  {
   "cell_type": "code",
   "execution_count": 7,
   "metadata": {},
   "outputs": [
    {
     "name": "stdout",
     "output_type": "stream",
     "text": [
      "fizzbuzz\n"
     ]
    }
   ],
   "source": [
    "Integer= -30\n",
    "\n",
    "if(Integer%15==0):\n",
    "    print(\"fizzbuzz\")\n",
    "elif(Integer%5==0):\n",
    "    print(\"buzz\")\n",
    "elif(Integer%3==0):\n",
    "    print(\"fizz\")"
   ]
  },
  {
   "cell_type": "code",
   "execution_count": null,
   "metadata": {},
   "outputs": [],
   "source": []
  }
 ],
 "metadata": {
  "kernelspec": {
   "display_name": "Python 3",
   "language": "python",
   "name": "python3"
  },
  "language_info": {
   "codemirror_mode": {
    "name": "ipython",
    "version": 3
   },
   "file_extension": ".py",
   "mimetype": "text/x-python",
   "name": "python",
   "nbconvert_exporter": "python",
   "pygments_lexer": "ipython3",
   "version": "3.7.6"
  }
 },
 "nbformat": 4,
 "nbformat_minor": 4
}
