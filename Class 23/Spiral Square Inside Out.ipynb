{
 "cells": [
  {
   "cell_type": "code",
   "execution_count": null,
   "metadata": {},
   "outputs": [],
   "source": [
    "import turtle  #Inside_Out\n",
    "wn = turtle.Screen()\n",
    "wn.bgcolor(\"light green\")\n",
    "skk = turtle.Turtle()\n",
    "skk.color(\"blue\")\n",
    " \n",
    "def sqrfunc(size):\n",
    "    for i in range(4):\n",
    "        skk.fd(size)\n",
    "        skk.left(90)\n",
    "        size = size + 5\n",
    " \n",
    "sqrfunc(6)\n",
    "sqrfunc(26)\n",
    "sqrfunc(46)\n",
    "sqrfunc(66)\n",
    "sqrfunc(86)\n",
    "sqrfunc(106)\n",
    "sqrfunc(126)\n",
    "sqrfunc(146)"
   ]
  }
 ],
 "metadata": {
  "kernelspec": {
   "display_name": "Python 3",
   "language": "python",
   "name": "python3"
  },
  "language_info": {
   "codemirror_mode": {
    "name": "ipython",
    "version": 3
   },
   "file_extension": ".py",
   "mimetype": "text/x-python",
   "name": "python",
   "nbconvert_exporter": "python",
   "pygments_lexer": "ipython3",
   "version": "3.7.6"
  }
 },
 "nbformat": 4,
 "nbformat_minor": 4
}
