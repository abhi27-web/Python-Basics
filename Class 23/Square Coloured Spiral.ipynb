{
 "cells": [
  {
   "cell_type": "code",
   "execution_count": null,
   "metadata": {},
   "outputs": [],
   "source": [
    "import turtle\n",
    "wn=turtle.Screen()\n",
    "wn.title(\"Turtle\")\n",
    "skk=turtle.Turtle()\n",
    "skk.color(\"blue\")\n",
    "\n",
    "\n",
    "def sqrfunc(size):\n",
    "\n",
    "    skk.fd(size)\n",
    "    skk.left(90)\n",
    "    skk.color(\"red\")\n",
    "    size=size-5\n",
    "\n",
    "    skk.fd(size)\n",
    "    skk.left(90)\n",
    "    skk.color(\"yellow\")\n",
    "    size=size-5\n",
    "    \n",
    "    skk.fd(size)\n",
    "    skk.left(90)\n",
    "    skk.color(\"green\")\n",
    "    size=size-5\n",
    "    \n",
    "    skk.fd(size)\n",
    "    skk.left(90)\n",
    "    skk.color(\"blue\")\n",
    "    size=size-5\n",
    "    \n",
    "sqrfunc(146)\n",
    "sqrfunc(126)\n",
    "sqrfunc(106)\n",
    "sqrfunc(86)\n",
    "sqrfunc(66)\n",
    "sqrfunc(46)\n",
    "sqrfunc(26)"
   ]
  }
 ],
 "metadata": {
  "kernelspec": {
   "display_name": "Python 3",
   "language": "python",
   "name": "python3"
  },
  "language_info": {
   "codemirror_mode": {
    "name": "ipython",
    "version": 3
   },
   "file_extension": ".py",
   "mimetype": "text/x-python",
   "name": "python",
   "nbconvert_exporter": "python",
   "pygments_lexer": "ipython3",
   "version": "3.7.6"
  }
 },
 "nbformat": 4,
 "nbformat_minor": 4
}
