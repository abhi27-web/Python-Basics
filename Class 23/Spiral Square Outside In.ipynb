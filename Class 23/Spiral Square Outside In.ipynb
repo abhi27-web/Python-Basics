{
 "cells": [
  {
   "cell_type": "code",
   "execution_count": null,
   "metadata": {},
   "outputs": [],
   "source": [
    "# Python program to draw\n",
    "# Spiral Square Outside In and Inside Out\n",
    "# using Turtle Programming\n",
    "import turtle   #Outside_In\n",
    "wn = turtle.Screen()\n",
    "wn.bgcolor(\"light green\")\n",
    "wn.title(\"Turtle\")\n",
    "skk = turtle.Turtle()\n",
    "skk.color(\"blue\")\n",
    " \n",
    "def sqrfunc(size):\n",
    "    for i in range(4):\n",
    "        skk.fd(size)\n",
    "        skk.left(90)\n",
    "        size = size-5\n",
    " \n",
    "sqrfunc(146)\n",
    "sqrfunc(126)\n",
    "sqrfunc(106)\n",
    "sqrfunc(86)\n",
    "sqrfunc(66)\n",
    "sqrfunc(46)\n",
    "sqrfunc(26)"
   ]
  }
 ],
 "metadata": {
  "kernelspec": {
   "display_name": "Python 3",
   "language": "python",
   "name": "python3"
  },
  "language_info": {
   "codemirror_mode": {
    "name": "ipython",
    "version": 3
   },
   "file_extension": ".py",
   "mimetype": "text/x-python",
   "name": "python",
   "nbconvert_exporter": "python",
   "pygments_lexer": "ipython3",
   "version": "3.7.6"
  }
 },
 "nbformat": 4,
 "nbformat_minor": 4
}
