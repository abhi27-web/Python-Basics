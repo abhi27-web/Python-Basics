{
 "cells": [
  {
   "cell_type": "code",
   "execution_count": null,
   "metadata": {},
   "outputs": [],
   "source": [
    "import turtle\n",
    "wn=turtle.Screen()\n",
    "wn.title(\"Turtle\")\n",
    "skk=turtle.Turtle()\n",
    "skk.color(\"red\")\n",
    "\n",
    "def sqrfunc(size):\n",
    "\n",
    "    skk.fd(size)\n",
    "    skk.left(60)\n",
    "    skk.color(\"blue\")\n",
    "    size=size+5\n",
    "    \n",
    "    \n",
    "    skk.fd(size)\n",
    "    skk.left(60)\n",
    "    skk.color(\"yellow\")\n",
    "    size=size+5\n",
    "\n",
    "    \n",
    "    skk.fd(size)\n",
    "    skk.left(60)\n",
    "    skk.color(\"pink\")\n",
    "    size=size+5\n",
    "\n",
    "    \n",
    "    skk.fd(size)\n",
    "    skk.left(60)\n",
    "    skk.color(\"violet\")\n",
    "    size=size+5\n",
    "\n",
    "    \n",
    "    skk.fd(size)\n",
    "    skk.left(60)\n",
    "    skk.color(\"green\")\n",
    "    size=size+5\n",
    "    \n",
    "    \n",
    "    skk.fd(size)\n",
    "    skk.left(60)\n",
    "    skk.color(\"red\")\n",
    "    size=size+5\n",
    "\n",
    "\n",
    "\n",
    "        \n",
    "sqrfunc(6)\n",
    "sqrfunc(36)\n",
    "sqrfunc(66)\n",
    "sqrfunc(96)\n",
    "sqrfunc(126)\n",
    "sqrfunc(156)\n",
    "sqrfunc(186)\n",
    "sqrfunc(216)"
   ]
  }
 ],
 "metadata": {
  "kernelspec": {
   "display_name": "Python 3",
   "language": "python",
   "name": "python3"
  },
  "language_info": {
   "codemirror_mode": {
    "name": "ipython",
    "version": 3
   },
   "file_extension": ".py",
   "mimetype": "text/x-python",
   "name": "python",
   "nbconvert_exporter": "python",
   "pygments_lexer": "ipython3",
   "version": "3.7.6"
  }
 },
 "nbformat": 4,
 "nbformat_minor": 4
}
